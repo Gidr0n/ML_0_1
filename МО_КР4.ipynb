{
  "nbformat": 4,
  "nbformat_minor": 0,
  "metadata": {
    "colab": {
      "provenance": []
    },
    "kernelspec": {
      "name": "python3",
      "display_name": "Python 3"
    },
    "language_info": {
      "name": "python"
    }
  },
  "cells": [
    {
      "cell_type": "code",
      "source": [
        "from sklearn.datasets import fetch_openml\n",
        "from imblearn.over_sampling import SMOTE\n",
        "from sklearn.linear_model import LogisticRegression\n",
        "from sklearn.model_selection import train_test_split, cross_val_score, learning_curve, StratifiedKFold\n",
        "from sklearn.metrics import roc_curve, roc_auc_score, precision_recall_curve, auc, average_precision_score\n",
        "from sklearn.ensemble import RandomForestClassifier\n",
        "from sklearn.metrics import precision_score, recall_score, f1_score\n",
        "import pandas as pd\n",
        "import numpy as np\n",
        "import matplotlib.pyplot as plt\n",
        "from sklearn.model_selection import GridSearchCV\n",
        "from sklearn.tree import DecisionTreeClassifier"
      ],
      "metadata": {
        "id": "aqwwOUJlT0A0"
      },
      "execution_count": null,
      "outputs": []
    },
    {
      "cell_type": "code",
      "execution_count": null,
      "metadata": {
        "colab": {
          "base_uri": "https://localhost:8080/"
        },
        "id": "b8RbybH9PSYr",
        "outputId": "f23c9841-c9f4-4664-c92d-831d7980fd65"
      },
      "outputs": [
        {
          "output_type": "stream",
          "name": "stdout",
          "text": [
            "**Author**:   \n",
            "**Source**: Unknown - Date unknown  \n",
            "**Please cite**:   \n",
            "\n",
            "87 persons with lupus nephritis. Followed up 15+ years. 35 deaths. Var =\n",
            "duration of disease. Over 40 baseline variables avaiable from authors.\n",
            "Description :\n",
            "For description of this data set arising from 87 persons\n",
            "with lupus nephritis followed for 15+ years after an initial\n",
            "renal biopsy (the starting point of follow-up) see the introduction to\n",
            "Abrahamowicz, MacKenzie and Esdaile (December 1996 issue).\n",
            "This data set only contains time to death/censoring, indicator,\n",
            "duration and log(1+duration), where duration is the duration\n",
            "of untreated  disease prior to biopsy. This variable was the\n",
            "focus in the aforementioned JASA article because it clearly\n",
            "violates the proportionality of hazards assumption. More than\n",
            "40 other variables acquired at baseline are available from\n",
            "authors.\n",
            "Permission :\n",
            "This data can be freely used for non-commercial purposes and\n",
            "distributed freely.\n",
            "Michal Abrahamowicz, Todd MacKenzie and John Esdaile\n",
            "\n",
            "\n",
            "Information about the dataset\n",
            "CLASSTYPE: nominal\n",
            "CLASSINDEX: 2\n",
            "\n",
            "Downloaded from openml.org.\n"
          ]
        },
        {
          "output_type": "stream",
          "name": "stderr",
          "text": [
            "/usr/local/lib/python3.10/dist-packages/sklearn/datasets/_openml.py:968: FutureWarning: The default value of `parser` will change from `'liac-arff'` to `'auto'` in 1.4. You can set `parser='auto'` to silence this warning. Therefore, an `ImportError` will be raised from 1.4 if the dataset is dense and pandas is not installed. Note that the pandas parser may return different data types. See the Notes Section in fetch_openml's API doc for details.\n",
            "  warn(\n"
          ]
        }
      ],
      "source": [
        "fertility = fetch_openml(name='lupus')\n",
        "\n",
        "print(fertility.DESCR)\n",
        "\n",
        "# Бизнес-задача: прогнозирование вероятности риска развития волчаночного нефрита на основе различных факторов.\n",
        "# Задача машинного обучения: бинарной классификации, для предсказания развития волчаночного нефрита"
      ]
    },
    {
      "cell_type": "markdown",
      "source": [
        "2) Выполните анализ и обработку дата-сета"
      ],
      "metadata": {
        "id": "qFJcwNwWJSqZ"
      }
    },
    {
      "cell_type": "code",
      "source": [
        "df = pd.DataFrame(data=fertility.data, columns=fertility.feature_names)\n",
        "target = pd.DataFrame(data = fertility.target)\n",
        "print(\"Основная статистическая информация о данных:\")\n",
        "print(df.describe())\n",
        "print(\"-----------------------------------------------------------------------\")\n",
        "print(\"Проверка дисбаланса целевого признака:\")\n",
        "target_counts = target.value_counts()\n",
        "print(target_counts)"
      ],
      "metadata": {
        "colab": {
          "base_uri": "https://localhost:8080/"
        },
        "id": "bNfXAX9jT51b",
        "outputId": "bee22c27-9779-4fc8-f594-2a31b68059b8"
      },
      "execution_count": null,
      "outputs": [
        {
          "output_type": "stream",
          "name": "stdout",
          "text": [
            "Основная статистическая информация о данных:\n",
            "             TIME    DURATION  LOG(1+DURATION)\n",
            "count   87.000000   87.000000        87.000000\n",
            "mean   142.344828   10.480460         1.417816\n",
            "std     73.356065   21.400716         1.329649\n",
            "min      4.000000    0.100000         0.100000\n",
            "25%     87.500000    0.100000         0.100000\n",
            "50%    147.000000    2.000000         1.100000\n",
            "75%    193.500000    9.000000         2.300000\n",
            "max    276.000000  106.000000         4.670000\n",
            "-----------------------------------------------------------------------\n",
            "Проверка дисбаланса целевого признака:\n",
            "STATUS\n",
            "alive     52\n",
            "dead      35\n",
            "Name: count, dtype: int64\n"
          ]
        }
      ]
    },
    {
      "cell_type": "markdown",
      "source": [
        "Наблюдаем разницу целевой переменной, поэтому используем метод создания синтетических признаков (SMOTE)"
      ],
      "metadata": {
        "id": "eO9G6LuJUeWK"
      }
    },
    {
      "cell_type": "code",
      "source": [
        "smote = SMOTE(random_state=42)\n",
        "df, target = smote.fit_resample(df, target)\n",
        "target_counts = target.value_counts()\n",
        "print(target_counts)"
      ],
      "metadata": {
        "colab": {
          "base_uri": "https://localhost:8080/"
        },
        "id": "KHu2KREgg-8Y",
        "outputId": "ae436e7f-80ba-4672-9464-0916bfcb3317"
      },
      "execution_count": null,
      "outputs": [
        {
          "output_type": "stream",
          "name": "stdout",
          "text": [
            "STATUS\n",
            "alive     52\n",
            "dead      52\n",
            "Name: count, dtype: int64\n"
          ]
        }
      ]
    },
    {
      "cell_type": "code",
      "source": [
        "print(df.isnull().sum())\n",
        "print(df.dtypes)"
      ],
      "metadata": {
        "colab": {
          "base_uri": "https://localhost:8080/"
        },
        "id": "wIwpWhc-hBpW",
        "outputId": "de4616f7-93d9-4f20-ac26-569762ef5a4f"
      },
      "execution_count": null,
      "outputs": [
        {
          "output_type": "stream",
          "name": "stdout",
          "text": [
            "TIME               0\n",
            "DURATION           0\n",
            "LOG(1+DURATION)    0\n",
            "dtype: int64\n",
            "TIME                 int64\n",
            "DURATION           float64\n",
            "LOG(1+DURATION)    float64\n",
            "dtype: object\n"
          ]
        }
      ]
    },
    {
      "cell_type": "code",
      "source": [
        "import seaborn as sns\n",
        "import matplotlib.pyplot as plt\n",
        "\n",
        "# Корреляционная матрица\n",
        "plt.figure(figsize=(12, 8))\n",
        "sns.heatmap(df.corr(), annot=True, fmt='.2f')\n",
        "plt.show()"
      ],
      "metadata": {
        "colab": {
          "base_uri": "https://localhost:8080/",
          "height": 682
        },
        "id": "c_e8hd1uOTYS",
        "outputId": "060b826e-eb69-457c-f69b-dea0c7865ceb"
      },
      "execution_count": null,
      "outputs": [
        {
          "output_type": "display_data",
          "data": {
            "text/plain": [
              "<Figure size 1200x800 with 2 Axes>"
            ],
            "image/png": "[encoded data removed]"
          },
          "metadata": {}
        }
      ]
    },
    {
      "cell_type": "markdown",
      "source": [
        "Подготовка данных"
      ],
      "metadata": {
        "id": "i6mFnOF7qBv8"
      }
    },
    {
      "cell_type": "code",
      "source": [
        "X_train, X_test, y_train, y_test = train_test_split(df, target, random_state=42)"
      ],
      "metadata": {
        "id": "aaukM75Aoksv"
      },
      "execution_count": null,
      "outputs": []
    },
    {
      "cell_type": "markdown",
      "source": [
        "3)\tВыберите несколько метрик для оценки моделей машинного обучения."
      ],
      "metadata": {
        "id": "hSTsj8HCrCQv"
      }
    },
    {
      "cell_type": "code",
      "source": [
        "from sklearn.metrics import precision_score, recall_score, f1_score"
      ],
      "metadata": {
        "id": "siv0XyU8cBQB"
      },
      "execution_count": null,
      "outputs": []
    },
    {
      "cell_type": "markdown",
      "source": [
        "4)\tПостройте 4 модели машинного обучения для решение поставленной задачи."
      ],
      "metadata": {
        "id": "Oak1wty3rH1h"
      }
    },
    {
      "cell_type": "code",
      "source": [
        "from sklearn.linear_model import LogisticRegression\n",
        "from sklearn.ensemble import RandomForestRegressor\n",
        "from sklearn.svm import SVR\n",
        "from sklearn.neighbors import KNeighborsRegressor"
      ],
      "metadata": {
        "id": "QPcCm0lsrmrb"
      },
      "execution_count": null,
      "outputs": []
    },
    {
      "cell_type": "code",
      "source": [
        "# Логистическая регрессия\n",
        "lr = LogisticRegression()\n",
        "lr.fit(X_train, y_train)\n",
        "y_pred_lr = lr.predict(X_test)\n",
        "y_pred_proba_lr = lr.predict_proba(X_test)[:, 1]\n",
        "print(\"Логистическая регрессия:\")\n",
        "print(\"Precision:\", precision_score(y_test, y_pred_lr, pos_label='alive'))\n",
        "print(\"Recall:\", recall_score(y_test, y_pred_lr, pos_label='alive'))\n",
        "print(\"F1 Score:\", f1_score(y_test, y_pred_lr, pos_label='alive'))\n",
        "\n",
        "print('-----'*40)\n",
        "\n",
        "# Случайный лес\n",
        "rf = RandomForestClassifier()\n",
        "rf.fit(X_train, y_train)\n",
        "y_pred_rf = rf.predict(X_test)\n",
        "y_pred_proba_rf = rf.predict_proba(X_test)[:, 1]\n",
        "print(\"Случайный лес:\")\n",
        "print(\"Precision:\", precision_score(y_test, y_pred_rf, pos_label='alive'))\n",
        "print(\"Recall:\", recall_score(y_test, y_pred_rf, pos_label='alive'))\n",
        "print(\"F1 Score:\", f1_score(y_test, y_pred_rf, pos_label='alive'))\n",
        "\n",
        "print('-----'*40)\n",
        "\n",
        "# SVM\n",
        "svm = SVC(probability=True)\n",
        "svm.fit(X_train, y_train)\n",
        "y_pred_svm = svm.predict(X_test)\n",
        "y_pred_proba_svm = svm.predict_proba(X_test)[:, 1]\n",
        "print(\"SVM:\")\n",
        "print(\"Precision:\", precision_score(y_test, y_pred_svm, pos_label='alive'))\n",
        "print(\"Recall:\", recall_score(y_test, y_pred_svm, pos_label='alive'))\n",
        "print(\"F1 Score:\", f1_score(y_test, y_pred_svm, pos_label='alive'))\n",
        "\n",
        "print('-----'*40)\n",
        "\n",
        "# K-ближайших соседей\n",
        "knn = KNeighborsClassifier()\n",
        "knn.fit(X_train, y_train)\n",
        "y_pred_knn = knn.predict(X_test)\n",
        "y_pred_proba_knn = knn.predict_proba(X_test)[:, 1]\n",
        "print(\"KNN:\")\n",
        "print(\"Precision:\", precision_score(y_test, y_pred_knn, pos_label='alive'))\n",
        "print(\"Recall:\", recall_score(y_test, y_pred_knn, pos_label='alive'))\n",
        "print(\"F1 Score:\", f1_score(y_test, y_pred_knn, pos_label='alive'))\n",
        "\n",
        "print('-----'*40)"
      ],
      "metadata": {
        "colab": {
          "base_uri": "https://localhost:8080/"
        },
        "id": "7dP2TpmCrfV1",
        "outputId": "4ace6ff5-0020-4384-f5f3-db5dd3ed856a"
      },
      "execution_count": null,
      "outputs": [
        {
          "output_type": "stream",
          "name": "stderr",
          "text": [
            "/usr/local/lib/python3.10/dist-packages/sklearn/utils/validation.py:1143: DataConversionWarning: A column-vector y was passed when a 1d array was expected. Please change the shape of y to (n_samples, ), for example using ravel().\n",
            "  y = column_or_1d(y, warn=True)\n",
            "<ipython-input-94-f14c1dc4cf06>:15: DataConversionWarning: A column-vector y was passed when a 1d array was expected. Please change the shape of y to (n_samples,), for example using ravel().\n",
            "  rf.fit(X_train, y_train)\n"
          ]
        },
        {
          "output_type": "stream",
          "name": "stdout",
          "text": [
            "Логистическая регрессия:\n",
            "Precision: 0.7142857142857143\n",
            "Recall: 0.7692307692307693\n",
            "F1 Score: 0.7407407407407408\n",
            "--------------------------------------------------------------------------------------------------------------------------------------------------------------------------------------------------------\n",
            "Случайный лес:\n",
            "Precision: 0.7857142857142857\n",
            "Recall: 0.8461538461538461\n",
            "F1 Score: 0.8148148148148148\n",
            "--------------------------------------------------------------------------------------------------------------------------------------------------------------------------------------------------------\n",
            "SVM:\n",
            "Precision: 0.7142857142857143\n",
            "Recall: 0.7692307692307693\n",
            "F1 Score: 0.7407407407407408\n",
            "--------------------------------------------------------------------------------------------------------------------------------------------------------------------------------------------------------\n",
            "KNN:\n",
            "Precision: 0.7692307692307693\n",
            "Recall: 0.7692307692307693\n",
            "F1 Score: 0.7692307692307693\n",
            "--------------------------------------------------------------------------------------------------------------------------------------------------------------------------------------------------------\n"
          ]
        },
        {
          "output_type": "stream",
          "name": "stderr",
          "text": [
            "/usr/local/lib/python3.10/dist-packages/sklearn/utils/validation.py:1143: DataConversionWarning: A column-vector y was passed when a 1d array was expected. Please change the shape of y to (n_samples, ), for example using ravel().\n",
            "  y = column_or_1d(y, warn=True)\n",
            "/usr/local/lib/python3.10/dist-packages/sklearn/neighbors/_classification.py:215: DataConversionWarning: A column-vector y was passed when a 1d array was expected. Please change the shape of y to (n_samples,), for example using ravel().\n",
            "  return self._fit(X, y)\n"
          ]
        }
      ]
    },
    {
      "cell_type": "markdown",
      "source": [
        "5)\tПроведите диагностику лучшей модели из пункта 4.\n",
        "\n",
        "6)\tСделайте подбор гиперпараметров для лучшей модели из пункта 4.\n",
        "\n"
      ],
      "metadata": {
        "id": "BOwqcxLp4gi1"
      }
    },
    {
      "cell_type": "code",
      "source": [
        "from sklearn.model_selection import GridSearchCV\n",
        "\n",
        "param_grid = {\n",
        "    'n_estimators': [100, 200, 300],\n",
        "    'max_depth': [None, 10, 20, 30],\n",
        "    'min_samples_split': [2, 5, 10],\n",
        "    'min_samples_leaf': [1, 2, 4]\n",
        "}"
      ],
      "metadata": {
        "id": "s2soRleP4e3C"
      },
      "execution_count": null,
      "outputs": []
    },
    {
      "cell_type": "code",
      "source": [
        "print(\"Лучшие гиперпараметры:\", grid_search.best_params_)\n",
        "print(\"Лучшая оценка:\", grid_search.best_score_)"
      ],
      "metadata": {
        "colab": {
          "base_uri": "https://localhost:8080/"
        },
        "id": "xmmP8ux980dz",
        "outputId": "a113fe95-9bfd-48b3-ee50-054fe8fe4a1a"
      },
      "execution_count": null,
      "outputs": [
        {
          "output_type": "stream",
          "name": "stdout",
          "text": [
            "Лучшие гиперпараметры: {'max_depth': 10, 'min_samples_leaf': 4, 'min_samples_split': 2, 'n_estimators': 100}\n",
            "Лучшая оценка: 0.6794871794871794\n"
          ]
        }
      ]
    },
    {
      "cell_type": "markdown",
      "source": [
        "7)\tПостройте ансамблевую модель машинного обучения."
      ],
      "metadata": {
        "id": "cMiqR2sJCo4g"
      }
    },
    {
      "cell_type": "code",
      "source": [
        "from sklearn.ensemble import VotingClassifier\n",
        "\n",
        "voting_clf = VotingClassifier(estimators=[('lr', lr), ('rf', rf), ('svm', svm), ('knn', knn)], voting='hard')\n",
        "voting_clf.fit(X_train, y_train)\n",
        "y_pred_voting = voting_clf.predict(X_test)\n",
        "\n",
        "print(\"Ансамблевая модель:\")\n",
        "print(\"Precision:\", precision_score(y_test, y_pred_voting, pos_label='alive'))\n",
        "print(\"Recall:\", recall_score(y_test, y_pred_voting, pos_label='alive'))\n",
        "print(\"F1 Score:\", f1_score(y_test, y_pred_voting, pos_label='alive'))"
      ],
      "metadata": {
        "colab": {
          "base_uri": "https://localhost:8080/"
        },
        "id": "8fWEHNC3CKt8",
        "outputId": "f103b67d-6c07-492e-e320-5d6978e9397c"
      },
      "execution_count": null,
      "outputs": [
        {
          "output_type": "stream",
          "name": "stderr",
          "text": [
            "/usr/local/lib/python3.10/dist-packages/sklearn/preprocessing/_label.py:99: DataConversionWarning: A column-vector y was passed when a 1d array was expected. Please change the shape of y to (n_samples, ), for example using ravel().\n",
            "  y = column_or_1d(y, warn=True)\n",
            "/usr/local/lib/python3.10/dist-packages/sklearn/preprocessing/_label.py:134: DataConversionWarning: A column-vector y was passed when a 1d array was expected. Please change the shape of y to (n_samples, ), for example using ravel().\n",
            "  y = column_or_1d(y, dtype=self.classes_.dtype, warn=True)\n"
          ]
        },
        {
          "output_type": "stream",
          "name": "stdout",
          "text": [
            "Ensemble Model:\n",
            "Precision: 0.75\n",
            "Recall: 0.9230769230769231\n",
            "F1 Score: 0.8275862068965517\n"
          ]
        }
      ]
    }
  ]
}