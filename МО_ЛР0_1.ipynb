{
  "nbformat": 4,
  "nbformat_minor": 0,
  "metadata": {
    "colab": {
      "provenance": []
    },
    "kernelspec": {
      "name": "python3",
      "display_name": "Python 3"
    },
    "language_info": {
      "name": "python"
    }
  },
  "cells": [
    {
      "cell_type": "markdown",
      "source": [
        "1) С помощью массивов numpy создайте таблицу умножения."
      ],
      "metadata": {
        "id": "8FWvZGb-qyyY"
      }
    },
    {
      "cell_type": "code",
      "execution_count": null,
      "metadata": {
        "id": "WgNEH4pmqbS2"
      },
      "outputs": [],
      "source": [
        "import numpy as np\n",
        "\n",
        "numbers = np.arange(1, 11)\n",
        "# Используем функцию outer для создания внешнего произведения массивов\n",
        "table = np.outer(numbers, numbers)\n",
        "print(table)"
      ]
    },
    {
      "cell_type": "markdown",
      "source": [
        "2) Создайте функцию, которая принимает как аргументы целое число N и первый элемент (вещественное число), и разность (вещественное число) и создает матрицу numpy по диагонали, которой располагаются первые N членов арифметической прогрессии."
      ],
      "metadata": {
        "id": "6piJ4XRFsGxM"
      }
    },
    {
      "cell_type": "code",
      "source": [
        "import numpy as np\n",
        "\n",
        "def create_arithmetic_matrix(N, first_element, difference):\n",
        "    # Создаем одномерный массив с N элементами арифметической прогрессии\n",
        "    progression = np.arange(first_element, first_element + N * difference, difference)\n",
        "    # Создаем матрицу, в которой диагональю будут являться элементы прогрессии\n",
        "    diagonal_matrix = np.diag(progression)\n",
        "    return diagonal_matrix\n",
        "\n",
        "N = 10\n",
        "first_element = 1.5\n",
        "difference = 0.5\n",
        "matrix = create_arithmetic_matrix(N, first_element, difference)\n",
        "\n",
        "print(matrix)"
      ],
      "metadata": {
        "id": "cMww5rR9sOud"
      },
      "execution_count": null,
      "outputs": []
    },
    {
      "cell_type": "markdown",
      "source": [
        "3) Сгенерируйте средствами numpy матрицу А 5 на 5, содержащую последовательные числа от 1 до 25. Используя срезы извлеките в плоский массив все нечетные элементы этой матрицы.\n",
        "\n"
      ],
      "metadata": {
        "id": "Nig5Zbgftdh_"
      }
    },
    {
      "cell_type": "code",
      "source": [
        "import numpy as np\n",
        "\n",
        "A = np.arange(1, 26).reshape(5, 5)\n",
        "print(A)\n",
        "ne_chet_elements = A[A % 2 != 0]\n",
        "print(ne_chet_elements)"
      ],
      "metadata": {
        "id": "Ad3f77Omu_zq"
      },
      "execution_count": null,
      "outputs": []
    },
    {
      "cell_type": "markdown",
      "source": [
        "\n",
        "4) Создайте двумерный массив, содержащий единицы на границе и нули внутри.\n"
      ],
      "metadata": {
        "id": "g8l3nfictgie"
      }
    },
    {
      "cell_type": "code",
      "source": [
        "import numpy as np\n",
        "\n",
        "array = np.ones((10, 10))\n",
        "array[1:-1, 1:-1] = 0\n",
        "print(array)"
      ],
      "metadata": {
        "id": "pYHdARgBvQiw"
      },
      "execution_count": null,
      "outputs": []
    },
    {
      "cell_type": "markdown",
      "source": [
        "5) Создайте две матрицы размером (5,5). Одна матрица содержит 5 в шахматном порядке как в задаче домашнего задания, другая имеет треугольную форму содержащую 5 на основной диагонали и в позициях выше ее, а ниже все 0. Посчитайте их детерминант и найдите обратные матрицы.\n"
      ],
      "metadata": {
        "id": "M903weLZtr3_"
      }
    },
    {
      "cell_type": "code",
      "source": [
        "import numpy as np\n",
        "\n",
        "matrix1 = np.array([[5, 0, 5, 0, 5],\n",
        "                   [0, 5, 0, 5, 0],\n",
        "                   [5, 0, 5, 0, 5],\n",
        "                   [0, 5, 0, 5, 0],\n",
        "                   [5, 0, 5, 0, 5]])\n",
        "\n",
        "matrix2 =np.array([[1, 0, 0, 0, 0],\n",
        "                  [1, 1, 0, 0, 0],\n",
        "                  [1, 1, 1, 0, 0],\n",
        "                  [1, 1, 1, 1, 0],\n",
        "                  [1, 1, 1, 1, 1]])\n",
        "\n",
        "print(\"Матрица 1:\")\n",
        "print(matrix1)\n",
        "print(\"\\nМатрица 2:\")\n",
        "print(matrix2)\n",
        "\n",
        "det1 = np.linalg.det(matrix1)\n",
        "det2 = np.linalg.det(matrix2)\n",
        "print(\"\\nДетерминант матрицы 1:\", det1)\n",
        "print(\"Детерминант матрицы 2:\", det2)\n",
        "\n",
        "inv_matrix2 = np.linalg.inv(matrix2)\n",
        "\n",
        "print(\"\\nОбратная матрица для матрицы 2:\")\n",
        "print(inv_matrix2)"
      ],
      "metadata": {
        "id": "VP0Yr0yBI1_p"
      },
      "execution_count": null,
      "outputs": []
    },
    {
      "cell_type": "markdown",
      "source": [
        "6) С помощью pandas загрузите датасет для предсказания цены квартиры, прилагающийся к этой работе.\n"
      ],
      "metadata": {
        "id": "MLP0N6sutst7"
      }
    },
    {
      "cell_type": "code",
      "source": [
        "import pandas as pd\n",
        "dataset = pd.read_csv(\"data.csv\")\n",
        "dataset"
      ],
      "metadata": {
        "id": "PSkNh95iv2ZS",
        "colab": {
          "base_uri": "https://localhost:8080/",
          "height": 356
        },
        "outputId": "2521ccb4-b5c5-45e3-8d72-69e1188a2b4b"
      },
      "execution_count": 1,
      "outputs": [
        {
          "output_type": "error",
          "ename": "FileNotFoundError",
          "evalue": "ignored",
          "traceback": [
            "\u001b[0;31m---------------------------------------------------------------------------\u001b[0m",
            "\u001b[0;31mFileNotFoundError\u001b[0m                         Traceback (most recent call last)",
            "\u001b[0;32m<ipython-input-1-ab5571e19dbf>\u001b[0m in \u001b[0;36m<cell line: 2>\u001b[0;34m()\u001b[0m\n\u001b[1;32m      1\u001b[0m \u001b[0;32mimport\u001b[0m \u001b[0mpandas\u001b[0m \u001b[0;32mas\u001b[0m \u001b[0mpd\u001b[0m\u001b[0;34m\u001b[0m\u001b[0;34m\u001b[0m\u001b[0m\n\u001b[0;32m----> 2\u001b[0;31m \u001b[0mdataset\u001b[0m \u001b[0;34m=\u001b[0m \u001b[0mpd\u001b[0m\u001b[0;34m.\u001b[0m\u001b[0mread_csv\u001b[0m\u001b[0;34m(\u001b[0m\u001b[0;34m\"data.csv\"\u001b[0m\u001b[0;34m)\u001b[0m\u001b[0;34m\u001b[0m\u001b[0;34m\u001b[0m\u001b[0m\n\u001b[0m\u001b[1;32m      3\u001b[0m \u001b[0mdataset\u001b[0m\u001b[0;34m\u001b[0m\u001b[0;34m\u001b[0m\u001b[0m\n",
            "\u001b[0;32m/usr/local/lib/python3.10/dist-packages/pandas/util/_decorators.py\u001b[0m in \u001b[0;36mwrapper\u001b[0;34m(*args, **kwargs)\u001b[0m\n\u001b[1;32m    209\u001b[0m                 \u001b[0;32melse\u001b[0m\u001b[0;34m:\u001b[0m\u001b[0;34m\u001b[0m\u001b[0;34m\u001b[0m\u001b[0m\n\u001b[1;32m    210\u001b[0m                     \u001b[0mkwargs\u001b[0m\u001b[0;34m[\u001b[0m\u001b[0mnew_arg_name\u001b[0m\u001b[0;34m]\u001b[0m \u001b[0;34m=\u001b[0m \u001b[0mnew_arg_value\u001b[0m\u001b[0;34m\u001b[0m\u001b[0;34m\u001b[0m\u001b[0m\n\u001b[0;32m--> 211\u001b[0;31m             \u001b[0;32mreturn\u001b[0m \u001b[0mfunc\u001b[0m\u001b[0;34m(\u001b[0m\u001b[0;34m*\u001b[0m\u001b[0margs\u001b[0m\u001b[0;34m,\u001b[0m \u001b[0;34m**\u001b[0m\u001b[0mkwargs\u001b[0m\u001b[0;34m)\u001b[0m\u001b[0;34m\u001b[0m\u001b[0;34m\u001b[0m\u001b[0m\n\u001b[0m\u001b[1;32m    212\u001b[0m \u001b[0;34m\u001b[0m\u001b[0m\n\u001b[1;32m    213\u001b[0m         \u001b[0;32mreturn\u001b[0m \u001b[0mcast\u001b[0m\u001b[0;34m(\u001b[0m\u001b[0mF\u001b[0m\u001b[0;34m,\u001b[0m \u001b[0mwrapper\u001b[0m\u001b[0;34m)\u001b[0m\u001b[0;34m\u001b[0m\u001b[0;34m\u001b[0m\u001b[0m\n",
            "\u001b[0;32m/usr/local/lib/python3.10/dist-packages/pandas/util/_decorators.py\u001b[0m in \u001b[0;36mwrapper\u001b[0;34m(*args, **kwargs)\u001b[0m\n\u001b[1;32m    329\u001b[0m                     \u001b[0mstacklevel\u001b[0m\u001b[0;34m=\u001b[0m\u001b[0mfind_stack_level\u001b[0m\u001b[0;34m(\u001b[0m\u001b[0;34m)\u001b[0m\u001b[0;34m,\u001b[0m\u001b[0;34m\u001b[0m\u001b[0;34m\u001b[0m\u001b[0m\n\u001b[1;32m    330\u001b[0m                 )\n\u001b[0;32m--> 331\u001b[0;31m             \u001b[0;32mreturn\u001b[0m \u001b[0mfunc\u001b[0m\u001b[0;34m(\u001b[0m\u001b[0;34m*\u001b[0m\u001b[0margs\u001b[0m\u001b[0;34m,\u001b[0m \u001b[0;34m**\u001b[0m\u001b[0mkwargs\u001b[0m\u001b[0;34m)\u001b[0m\u001b[0;34m\u001b[0m\u001b[0;34m\u001b[0m\u001b[0m\n\u001b[0m\u001b[1;32m    332\u001b[0m \u001b[0;34m\u001b[0m\u001b[0m\n\u001b[1;32m    333\u001b[0m         \u001b[0;31m# error: \"Callable[[VarArg(Any), KwArg(Any)], Any]\" has no\u001b[0m\u001b[0;34m\u001b[0m\u001b[0;34m\u001b[0m\u001b[0m\n",
            "\u001b[0;32m/usr/local/lib/python3.10/dist-packages/pandas/io/parsers/readers.py\u001b[0m in \u001b[0;36mread_csv\u001b[0;34m(filepath_or_buffer, sep, delimiter, header, names, index_col, usecols, squeeze, prefix, mangle_dupe_cols, dtype, engine, converters, true_values, false_values, skipinitialspace, skiprows, skipfooter, nrows, na_values, keep_default_na, na_filter, verbose, skip_blank_lines, parse_dates, infer_datetime_format, keep_date_col, date_parser, dayfirst, cache_dates, iterator, chunksize, compression, thousands, decimal, lineterminator, quotechar, quoting, doublequote, escapechar, comment, encoding, encoding_errors, dialect, error_bad_lines, warn_bad_lines, on_bad_lines, delim_whitespace, low_memory, memory_map, float_precision, storage_options)\u001b[0m\n\u001b[1;32m    948\u001b[0m     \u001b[0mkwds\u001b[0m\u001b[0;34m.\u001b[0m\u001b[0mupdate\u001b[0m\u001b[0;34m(\u001b[0m\u001b[0mkwds_defaults\u001b[0m\u001b[0;34m)\u001b[0m\u001b[0;34m\u001b[0m\u001b[0;34m\u001b[0m\u001b[0m\n\u001b[1;32m    949\u001b[0m \u001b[0;34m\u001b[0m\u001b[0m\n\u001b[0;32m--> 950\u001b[0;31m     \u001b[0;32mreturn\u001b[0m \u001b[0m_read\u001b[0m\u001b[0;34m(\u001b[0m\u001b[0mfilepath_or_buffer\u001b[0m\u001b[0;34m,\u001b[0m \u001b[0mkwds\u001b[0m\u001b[0;34m)\u001b[0m\u001b[0;34m\u001b[0m\u001b[0;34m\u001b[0m\u001b[0m\n\u001b[0m\u001b[1;32m    951\u001b[0m \u001b[0;34m\u001b[0m\u001b[0m\n\u001b[1;32m    952\u001b[0m \u001b[0;34m\u001b[0m\u001b[0m\n",
            "\u001b[0;32m/usr/local/lib/python3.10/dist-packages/pandas/io/parsers/readers.py\u001b[0m in \u001b[0;36m_read\u001b[0;34m(filepath_or_buffer, kwds)\u001b[0m\n\u001b[1;32m    603\u001b[0m \u001b[0;34m\u001b[0m\u001b[0m\n\u001b[1;32m    604\u001b[0m     \u001b[0;31m# Create the parser.\u001b[0m\u001b[0;34m\u001b[0m\u001b[0;34m\u001b[0m\u001b[0m\n\u001b[0;32m--> 605\u001b[0;31m     \u001b[0mparser\u001b[0m \u001b[0;34m=\u001b[0m \u001b[0mTextFileReader\u001b[0m\u001b[0;34m(\u001b[0m\u001b[0mfilepath_or_buffer\u001b[0m\u001b[0;34m,\u001b[0m \u001b[0;34m**\u001b[0m\u001b[0mkwds\u001b[0m\u001b[0;34m)\u001b[0m\u001b[0;34m\u001b[0m\u001b[0;34m\u001b[0m\u001b[0m\n\u001b[0m\u001b[1;32m    606\u001b[0m \u001b[0;34m\u001b[0m\u001b[0m\n\u001b[1;32m    607\u001b[0m     \u001b[0;32mif\u001b[0m \u001b[0mchunksize\u001b[0m \u001b[0;32mor\u001b[0m \u001b[0miterator\u001b[0m\u001b[0;34m:\u001b[0m\u001b[0;34m\u001b[0m\u001b[0;34m\u001b[0m\u001b[0m\n",
            "\u001b[0;32m/usr/local/lib/python3.10/dist-packages/pandas/io/parsers/readers.py\u001b[0m in \u001b[0;36m__init__\u001b[0;34m(self, f, engine, **kwds)\u001b[0m\n\u001b[1;32m   1440\u001b[0m \u001b[0;34m\u001b[0m\u001b[0m\n\u001b[1;32m   1441\u001b[0m         \u001b[0mself\u001b[0m\u001b[0;34m.\u001b[0m\u001b[0mhandles\u001b[0m\u001b[0;34m:\u001b[0m \u001b[0mIOHandles\u001b[0m \u001b[0;34m|\u001b[0m \u001b[0;32mNone\u001b[0m \u001b[0;34m=\u001b[0m \u001b[0;32mNone\u001b[0m\u001b[0;34m\u001b[0m\u001b[0;34m\u001b[0m\u001b[0m\n\u001b[0;32m-> 1442\u001b[0;31m         \u001b[0mself\u001b[0m\u001b[0;34m.\u001b[0m\u001b[0m_engine\u001b[0m \u001b[0;34m=\u001b[0m \u001b[0mself\u001b[0m\u001b[0;34m.\u001b[0m\u001b[0m_make_engine\u001b[0m\u001b[0;34m(\u001b[0m\u001b[0mf\u001b[0m\u001b[0;34m,\u001b[0m \u001b[0mself\u001b[0m\u001b[0;34m.\u001b[0m\u001b[0mengine\u001b[0m\u001b[0;34m)\u001b[0m\u001b[0;34m\u001b[0m\u001b[0;34m\u001b[0m\u001b[0m\n\u001b[0m\u001b[1;32m   1443\u001b[0m \u001b[0;34m\u001b[0m\u001b[0m\n\u001b[1;32m   1444\u001b[0m     \u001b[0;32mdef\u001b[0m \u001b[0mclose\u001b[0m\u001b[0;34m(\u001b[0m\u001b[0mself\u001b[0m\u001b[0;34m)\u001b[0m \u001b[0;34m->\u001b[0m \u001b[0;32mNone\u001b[0m\u001b[0;34m:\u001b[0m\u001b[0;34m\u001b[0m\u001b[0;34m\u001b[0m\u001b[0m\n",
            "\u001b[0;32m/usr/local/lib/python3.10/dist-packages/pandas/io/parsers/readers.py\u001b[0m in \u001b[0;36m_make_engine\u001b[0;34m(self, f, engine)\u001b[0m\n\u001b[1;32m   1733\u001b[0m                 \u001b[0;32mif\u001b[0m \u001b[0;34m\"b\"\u001b[0m \u001b[0;32mnot\u001b[0m \u001b[0;32min\u001b[0m \u001b[0mmode\u001b[0m\u001b[0;34m:\u001b[0m\u001b[0;34m\u001b[0m\u001b[0;34m\u001b[0m\u001b[0m\n\u001b[1;32m   1734\u001b[0m                     \u001b[0mmode\u001b[0m \u001b[0;34m+=\u001b[0m \u001b[0;34m\"b\"\u001b[0m\u001b[0;34m\u001b[0m\u001b[0;34m\u001b[0m\u001b[0m\n\u001b[0;32m-> 1735\u001b[0;31m             self.handles = get_handle(\n\u001b[0m\u001b[1;32m   1736\u001b[0m                 \u001b[0mf\u001b[0m\u001b[0;34m,\u001b[0m\u001b[0;34m\u001b[0m\u001b[0;34m\u001b[0m\u001b[0m\n\u001b[1;32m   1737\u001b[0m                 \u001b[0mmode\u001b[0m\u001b[0;34m,\u001b[0m\u001b[0;34m\u001b[0m\u001b[0;34m\u001b[0m\u001b[0m\n",
            "\u001b[0;32m/usr/local/lib/python3.10/dist-packages/pandas/io/common.py\u001b[0m in \u001b[0;36mget_handle\u001b[0;34m(path_or_buf, mode, encoding, compression, memory_map, is_text, errors, storage_options)\u001b[0m\n\u001b[1;32m    854\u001b[0m         \u001b[0;32mif\u001b[0m \u001b[0mioargs\u001b[0m\u001b[0;34m.\u001b[0m\u001b[0mencoding\u001b[0m \u001b[0;32mand\u001b[0m \u001b[0;34m\"b\"\u001b[0m \u001b[0;32mnot\u001b[0m \u001b[0;32min\u001b[0m \u001b[0mioargs\u001b[0m\u001b[0;34m.\u001b[0m\u001b[0mmode\u001b[0m\u001b[0;34m:\u001b[0m\u001b[0;34m\u001b[0m\u001b[0;34m\u001b[0m\u001b[0m\n\u001b[1;32m    855\u001b[0m             \u001b[0;31m# Encoding\u001b[0m\u001b[0;34m\u001b[0m\u001b[0;34m\u001b[0m\u001b[0m\n\u001b[0;32m--> 856\u001b[0;31m             handle = open(\n\u001b[0m\u001b[1;32m    857\u001b[0m                 \u001b[0mhandle\u001b[0m\u001b[0;34m,\u001b[0m\u001b[0;34m\u001b[0m\u001b[0;34m\u001b[0m\u001b[0m\n\u001b[1;32m    858\u001b[0m                 \u001b[0mioargs\u001b[0m\u001b[0;34m.\u001b[0m\u001b[0mmode\u001b[0m\u001b[0;34m,\u001b[0m\u001b[0;34m\u001b[0m\u001b[0;34m\u001b[0m\u001b[0m\n",
            "\u001b[0;31mFileNotFoundError\u001b[0m: [Errno 2] No such file or directory: 'data.csv'"
          ]
        }
      ]
    },
    {
      "cell_type": "markdown",
      "source": [
        "7) Выведите на экран несколько первых и несколько последний строк файла."
      ],
      "metadata": {
        "id": "4q0tHADctkZr"
      }
    },
    {
      "cell_type": "code",
      "source": [
        "print(\"Первые 3 строки:\")\n",
        "print(dataset.head(3))\n",
        "\n",
        "print(\"Последние 3 строки:\")\n",
        "print(dataset.tail(3))"
      ],
      "metadata": {
        "id": "IfXK05JUwCwA"
      },
      "execution_count": null,
      "outputs": []
    },
    {
      "cell_type": "markdown",
      "source": [
        "8) Выведите с помощью методов pandas основные количественные параметры датасета: количество строк и столбцов, тип данных каждого поля, количество значений в каждом столбце, шкала измерения каждого численного поля."
      ],
      "metadata": {
        "id": "RKFpPa4it0AY"
      }
    },
    {
      "cell_type": "code",
      "source": [
        "import pandas as pd\n",
        "\n",
        "print(\"Количество строк и столбцов:\", dataset.shape)\n",
        "print(\"Тип данных и количество значений в каждом столбце:\")\n",
        "print(dataset.info())\n",
        "print(\"Шкала измерения каждого численного поля:\")\n",
        "print(dataset.describe())"
      ],
      "metadata": {
        "id": "-R_n3MJrxGPe"
      },
      "execution_count": null,
      "outputs": []
    },
    {
      "cell_type": "markdown",
      "source": [
        "9) Удалите из таблицы столбцы, содержащие идентификаторы, переименуйте все оставшиеся названия колонок на русском языке."
      ],
      "metadata": {
        "id": "j7HLh2PKuD9V"
      }
    },
    {
      "cell_type": "code",
      "source": [
        "dataset = dataset.drop([\"Id\",\"DistrictId\"], axis=1)\n",
        "dataset = dataset.rename(columns={\"Price\": \"Цена\", \"Rooms\": \"Комнаты\", \"Area\": \"Площадь\", \"Location\": \"Расположение\", \"Floor\": \"Этаж\", \"Square\": \"Площадь\", \"LifeSquare\": \"Жилая площадь\" ,\"KitchenSquare\": \" Площадь кухни\"})\n",
        "\n",
        "print(dataset)"
      ],
      "metadata": {
        "id": "YGIkD2vMxbwa"
      },
      "execution_count": null,
      "outputs": []
    },
    {
      "cell_type": "markdown",
      "source": [
        "10) Выведите отдельно столбец, содержащий цену, по номеру и названию. Выведите первую, десятую и предпоследнюю строку таблицы по номеру и по индексу."
      ],
      "metadata": {
        "id": "rt1e6qG4uGO3"
      }
    },
    {
      "cell_type": "code",
      "source": [
        "import pandas as pd\n",
        "\n",
        "print(\"Столбец с ценой по номеру:\")\n",
        "print(dataset.iloc[:, 2])\n",
        "\n",
        "print(\"Столбец с ценой по названию:\")\n",
        "print(dataset[\"Цена\"])\n",
        "\n",
        "print(\"Первая строка по номеру:\")\n",
        "print(dataset.iloc[0, :])\n",
        "\n",
        "print(\"Десятая строка по номеру:\")\n",
        "print(dataset.iloc[9, :])\n",
        "\n",
        "print(\"Предпоследняя строка по номеру:\")\n",
        "print(dataset.iloc[-2, :])\n",
        "\n",
        "print(\"Первая строка по индексу:\")\n",
        "print(dataset.loc[0, :])\n",
        "\n",
        "print(\"Десятая строка по индексу:\")\n",
        "print(dataset.loc[9, :])\n",
        "\n",
        "print(\"Предпоследняя строка по индексу:\")\n",
        "print(dataset.loc[len(dataset)-2, :])"
      ],
      "metadata": {
        "id": "Gw1nlqb-85UL"
      },
      "execution_count": null,
      "outputs": []
    },
    {
      "cell_type": "markdown",
      "source": [
        "11) Выделите в отдельную таблицу последние десять строк. Уберите в ней столбец с ценой. Склейте ее с первоначальной таблицей при помощи append. Заполните отсутствующие значения цены средним по таблице."
      ],
      "metadata": {
        "id": "MvOJGuBFuHOH"
      }
    },
    {
      "cell_type": "code",
      "source": [
        "last_10_rows = dataset.tail(10)\n",
        "last_10_rows = last_10_rows.drop(\"Цена\", axis=1)\n",
        "\n",
        "mean_price = dataset[\"Цена\"].mean()\n",
        "last_10_rows[\"Цена\"] = mean_price\n",
        "dataset_updated = dataset.append(last_10_rows)\n",
        "\n",
        "print(dataset_updated)"
      ],
      "metadata": {
        "id": "a6h657AUFph8"
      },
      "execution_count": null,
      "outputs": []
    },
    {
      "cell_type": "markdown",
      "source": [
        "12) Выделите пять последних колонок в отдельную таблицу. Удалите в ней строки, в которых цена ниже среднего. Присоедините эту таблицу к изначальной (выберите самый подходящий тип соединения)."
      ],
      "metadata": {
        "id": "NNbgSww8uJGX"
      }
    },
    {
      "cell_type": "code",
      "source": [
        "import pandas as pd\n",
        "\n",
        "new_dataset = dataset.iloc[:, -5:]\n",
        "\n",
        "sredni_price = dataset['Цена'].mean()\n",
        "new_dataset = new_dataset[new_dataset['Цена'] >= sredni_price]\n",
        "\n",
        "coop_dataset = pd.concat([dataset, new_dataset], axis=1)\n",
        "print(coop_dataset)"
      ],
      "metadata": {
        "id": "cklmpfZZ8NqT"
      },
      "execution_count": null,
      "outputs": []
    },
    {
      "cell_type": "markdown",
      "source": [
        "13) Выведите таблицу, содержащую среднюю цену и количество квартир на каждом этаже из первоначального набора данных."
      ],
      "metadata": {
        "id": "xvcBcQokucqQ"
      }
    },
    {
      "cell_type": "code",
      "source": [
        "import pandas as pd\n",
        "\n",
        "grouped_dataset = dataset.groupby('Этаж').agg({'Цена': 'mean', 'Этаж': 'size'}).rename(columns={'Этаж': 'Количество'}).reset_index()\n",
        "\n",
        "print(grouped_dataset)"
      ],
      "metadata": {
        "id": "QCWZZ823BXMf"
      },
      "execution_count": null,
      "outputs": []
    },
    {
      "cell_type": "markdown",
      "source": [
        "14) Сохраните получившуюся таблицу в файлы формата csv и xlsx. Прочитайте их и убедитесь, что данные отображаются корректно."
      ],
      "metadata": {
        "id": "Zs7cpkKeufSs"
      }
    },
    {
      "cell_type": "code",
      "source": [
        "import pandas as pd\n",
        "\n",
        "grouped_dataset.to_csv('grouped_dataset.csv', index=False)\n",
        "grouped_dataset.to_excel('grouped_dataset.xlsx', index=False)\n",
        "\n",
        "csv_data = pd.read_csv('grouped_dataset.csv')\n",
        "xlsx_data = pd.read_excel('grouped_dataset.xlsx')\n",
        "\n",
        "print(\"CSV data:\")\n",
        "print(csv_data)\n",
        "print(\"\\nXLSX data:\")\n",
        "print(xlsx_data)"
      ],
      "metadata": {
        "id": "T4iWe9_dan8U"
      },
      "execution_count": null,
      "outputs": []
    },
    {
      "cell_type": "markdown",
      "source": [
        "15) Создайте в Excel или другом табличном редакторе таблицу, содержащую несколько численных и текстовых полей. Прочитайте ее в программу при помощи pandas."
      ],
      "metadata": {
        "id": "AkxklvrluiIX"
      }
    },
    {
      "cell_type": "code",
      "source": [
        "import pandas as pd\n",
        "a= pd.read_excel('grouped_dataset.xlsx')\n",
        "a"
      ],
      "metadata": {
        "id": "t-FQKXuIK0qo"
      },
      "execution_count": null,
      "outputs": []
    },
    {
      "cell_type": "markdown",
      "source": [
        "16) Дальнейшие задания производите используя изначальную версию датасета. Должны быть подписаны названия графиков, названия осей, указаны значения на осях. Оцениваться будет использование количества различных атрибутов при построении графиков и визуальная красота."
      ],
      "metadata": {
        "id": "tRK1T-j7ulIX"
      }
    },
    {
      "cell_type": "code",
      "source": [
        "import pandas as pd\n",
        "dataset = pd.read_csv(\"data.csv\")"
      ],
      "metadata": {
        "id": "L92Rx31WbdsH"
      },
      "execution_count": null,
      "outputs": []
    },
    {
      "cell_type": "markdown",
      "source": [
        "17) Постройте круговую диаграмму для признака Rooms, иллюстрирующую количество квартир в процентах в зависимости от количества комнат. Сделайте сектор с наибольшим числом квартир выдвинутым."
      ],
      "metadata": {
        "id": "njN8VXcrunpu"
      }
    },
    {
      "cell_type": "code",
      "source": [
        "\n",
        "import matplotlib.pyplot as plt\n",
        "\n",
        "room_counts = dataset['Rooms'].value_counts()\n",
        "\n",
        "plt.pie(room_counts, labels=room_counts.index, autopct='%1.1f%%', startangle=90)\n",
        "plt.axis('equal')\n",
        "\n",
        "plt.show()"
      ],
      "metadata": {
        "id": "TrNH5EE7cezv"
      },
      "execution_count": null,
      "outputs": []
    },
    {
      "cell_type": "markdown",
      "source": [
        "18) Постройте гистограмму по целевой переменной Price. Оцените визуально, по какой цене продаётся наибольшее количество квартир."
      ],
      "metadata": {
        "id": "adKWG_YGup39"
      }
    },
    {
      "cell_type": "code",
      "source": [
        "import matplotlib.pyplot as plt\n",
        "\n",
        "price_count = dataset['Price'].value_counts()\n",
        "\n",
        "plt.hist(dataset['Price'])\n",
        "\n",
        "plt.xlabel('Price')\n",
        "plt.ylabel('Count')\n",
        "plt.title('Histogram of Price')\n",
        "\n",
        "plt.show()"
      ],
      "metadata": {
        "id": "XUJRjq_Lb61v"
      },
      "execution_count": null,
      "outputs": []
    },
    {
      "cell_type": "markdown",
      "source": [
        "19. Постройте диаграммы рассеяния для признаков Rooms, Square, HouseFloor, HouseYear в зависимости от целевой переменной Price в одной области figure. Оцените визуально, есть ли среди них такие, на которых разброс точек близок к линейной функции."
      ],
      "metadata": {
        "id": "yoZNPwo48_SQ"
      }
    },
    {
      "cell_type": "code",
      "source": [
        "fig, axs = plt.subplots(2, 2, sharey=True, tight_layout=True)\n",
        "\n",
        "axs[0,0].scatter(dataset.Rooms, dataset.Price)\n",
        "axs[0,0].set_title('Цена vs Кол-во комнат')\n",
        "axs[0,0].set_xlabel('Кол-во комнат')\n",
        "axs[0,0].set_ylabel('Цена')\n",
        "axs[0,1].scatter(dataset.Square, dataset.Price)\n",
        "axs[0,1].set_title('Цена vs Площадь')\n",
        "axs[0,1].set_xlabel('Площадь')\n",
        "axs[0,1].set_ylabel('Цена')\n",
        "axs[1,0].scatter(dataset.HouseFloor, dataset.Price)\n",
        "axs[1,0].scatter(dataset[dataset.HouseFloor < 50].HouseFloor, dataset[dataset.HouseFloor < 50].Price)\n",
        "axs[1,0].set_title('Цена vs Этажность дома')\n",
        "axs[1,0].set_xlabel('Этажность дома')\n",
        "axs[1,0].set_ylabel('Цена')\n",
        "axs[1,1].scatter(dataset.HouseYear, dataset.Price)\n",
        "axs[1,1].scatter(dataset[dataset.HouseYear < 2023].HouseYear, dataset[dataset.HouseYear < 2023].Price)\n",
        "axs[1,1].set_title('Цена vs Год постройки')\n",
        "axs[1,1].set_xlabel('Год постройки')\n",
        "axs[1,1].set_ylabel('Цена')"
      ],
      "metadata": {
        "id": "bknp7WQ-5vk7"
      },
      "execution_count": null,
      "outputs": []
    },
    {
      "cell_type": "markdown",
      "source": [
        "20) Постройте ядерную оценку плотности целевой переменной Price. Оцените визуально, напоминает ли полученный график нормальное распределение. Постройте двумерную ядерную оценку плотности для целевой переменной Price и признака HouseFloor, затем оцените визуально на каких этажах и по какой цене продаётся основная масса квартир."
      ],
      "metadata": {
        "id": "kryTq-GEuuTq"
      }
    },
    {
      "cell_type": "code",
      "source": [
        "import seaborn as sns"
      ],
      "metadata": {
        "id": "qTmMgLn9veMC"
      },
      "execution_count": null,
      "outputs": []
    },
    {
      "cell_type": "code",
      "source": [
        "sns.kdeplot(dataset.Price, color='red', fill=True, alpha=.3, linewidth=0)"
      ],
      "metadata": {
        "id": "svsf9RSa50Ha"
      },
      "execution_count": null,
      "outputs": []
    },
    {
      "cell_type": "code",
      "source": [
        "sns.kdeplot(dataset.HouseFloor, color='red', fill=True, alpha=.3, linewidth=0)"
      ],
      "metadata": {
        "id": "nuUMOmVS57Ea"
      },
      "execution_count": null,
      "outputs": []
    },
    {
      "cell_type": "code",
      "source": [
        "data = dataset[['Price','HouseFloor']]\n",
        "sns.kdeplot(data, color='red', fill=True, alpha=.3, linewidth=0, x = 'HouseFloor', y = 'Price')"
      ],
      "metadata": {
        "id": "LigImGUAOaNf"
      },
      "execution_count": null,
      "outputs": []
    },
    {
      "cell_type": "code",
      "source": [
        "data = dataset[['Price','HouseFloor']]\n",
        "data = data[data.HouseFloor < 40]\n",
        "sns.kdeplot(data, color='red', fill=True, alpha=.3, linewidth=0, x = 'HouseFloor', y = 'Price', cbar = True)"
      ],
      "metadata": {
        "id": "Qsfs93koOcHG"
      },
      "execution_count": null,
      "outputs": []
    },
    {
      "cell_type": "markdown",
      "source": [
        "21) Постройте ящиковую диаграмму признака Square. Оцените визуально имеются ли выбросы, и, если да, то начиная с какого размера площади значение признака можно считать выбросом."
      ],
      "metadata": {
        "id": "IwSq1GFNuwOe"
      }
    },
    {
      "cell_type": "code",
      "source": [
        "sns.boxplot(dataset,x = 'Square')"
      ],
      "metadata": {
        "id": "BMMrUyPdxfF7"
      },
      "execution_count": null,
      "outputs": []
    },
    {
      "cell_type": "markdown",
      "source": [
        "22) При помощи сетки графиков PairGrid визуализируйте попарные отношения признаков Rooms, Square, HouseFloor, HouseYear, Price следующим образом: на диагонали - гистограммы, под диагональю - ядерные оценки плотности, над диагональю - диаграммы рассеяния. По результатам визуализации сделайте выводы."
      ],
      "metadata": {
        "id": "BSVpRu4MuyIv"
      }
    },
    {
      "cell_type": "markdown",
      "source": [
        "23) Постройте тепловую карту матрицы корреляции (df.corr()) признаков Rooms, Square, HouseFloor, HouseYear, Price. По ней определите, какие признаки являются зависимыми (у таких признаков коэффициент корреляции близок к единице).\n"
      ],
      "metadata": {
        "id": "Qaul9KE2u0ai"
      }
    },
    {
      "cell_type": "code",
      "source": [
        "import seaborn as sns\n",
        "import matplotlib.pyplot as plt\n",
        "\n",
        "features = ['Rooms', 'Square', 'HouseFloor', 'HouseYear', 'Price']\n",
        "subset = dataset[features]\n",
        "\n",
        "corr_matrix = subset.corr()\n",
        "\n",
        "sns.heatmap(corr_matrix, annot=True, cmap='coolwarm')\n",
        "\n",
        "plt.show"
      ],
      "metadata": {
        "id": "AFmQG5PbwQyg"
      },
      "execution_count": null,
      "outputs": []
    }
  ]
}